{
 "cells": [
  {
   "cell_type": "code",
   "execution_count": 4,
   "metadata": {},
   "outputs": [],
   "source": [
    "import pandas as pd\n",
    "\n",
    "# Specify the path to your CSV file\n",
    "csv_file_path = 'C:/Users/DELL/Desktop/Flyzy Flight Cancellation - Sheet1.csv'"
   ]
  },
  {
   "cell_type": "code",
   "execution_count": 5,
   "metadata": {},
   "outputs": [],
   "source": [
    "# Use the read_csv() function to load the CSV data into a DataFrame\n",
    "df = pd.read_csv(csv_file_path)"
   ]
  },
  {
   "cell_type": "code",
   "execution_count": 6,
   "metadata": {},
   "outputs": [
    {
     "name": "stdout",
     "output_type": "stream",
     "text": [
      "   Flight ID    Airline  Flight_Distance Origin_Airport Destination_Airport  \\\n",
      "0    7319483  Airline D              475      Airport 3           Airport 2   \n",
      "1    4791965  Airline E              538      Airport 5           Airport 4   \n",
      "2    2991718  Airline C              565      Airport 1           Airport 2   \n",
      "3    4220106  Airline E              658      Airport 5           Airport 3   \n",
      "4    2263008  Airline E              566      Airport 2           Airport 2   \n",
      "\n",
      "   Scheduled_Departure_Time  Day_of_Week  Month Airplane_Type  Weather_Score  \\\n",
      "0                         4            6      1        Type C       0.225122   \n",
      "1                        12            1      6        Type B       0.060346   \n",
      "2                        17            3      9        Type C       0.093920   \n",
      "3                         1            1      8        Type B       0.656750   \n",
      "4                        19            7     12        Type E       0.505211   \n",
      "\n",
      "   Previous_Flight_Delay_Minutes  Airline_Rating  Passenger_Load  \\\n",
      "0                            5.0        2.151974        0.477202   \n",
      "1                           68.0        1.600779        0.159718   \n",
      "2                           18.0        4.406848        0.256803   \n",
      "3                           13.0        0.998757        0.504077   \n",
      "4                            4.0        3.806206        0.019638   \n",
      "\n",
      "   Flight_Cancelled  \n",
      "0                 0  \n",
      "1                 1  \n",
      "2                 0  \n",
      "3                 1  \n",
      "4                 0  \n"
     ]
    }
   ],
   "source": [
    "# Now, 'df' contains your CSV data, and you can perform operations on it.\n",
    "# For example, you can display the first few rows of the DataFrame\n",
    "print(df.head())"
   ]
  },
  {
   "cell_type": "code",
   "execution_count": 7,
   "metadata": {},
   "outputs": [],
   "source": [
    "# Check for missing values in the entire dataset\n",
    "missing_values = df.isnull().sum()"
   ]
  },
  {
   "cell_type": "code",
   "execution_count": 8,
   "metadata": {},
   "outputs": [
    {
     "name": "stdout",
     "output_type": "stream",
     "text": [
      "Missing values in each column:\n",
      "Flight ID                        0\n",
      "Airline                          0\n",
      "Flight_Distance                  0\n",
      "Origin_Airport                   0\n",
      "Destination_Airport              0\n",
      "Scheduled_Departure_Time         0\n",
      "Day_of_Week                      0\n",
      "Month                            0\n",
      "Airplane_Type                    0\n",
      "Weather_Score                    0\n",
      "Previous_Flight_Delay_Minutes    0\n",
      "Airline_Rating                   0\n",
      "Passenger_Load                   0\n",
      "Flight_Cancelled                 0\n",
      "dtype: int64\n"
     ]
    }
   ],
   "source": [
    "# Print the missing values count for each column\n",
    "print(\"Missing values in each column:\")\n",
    "print(missing_values)"
   ]
  },
  {
   "cell_type": "code",
   "execution_count": 9,
   "metadata": {},
   "outputs": [],
   "source": [
    "import numpy as np\n",
    "from scipy import stats"
   ]
  },
  {
   "cell_type": "code",
   "execution_count": 11,
   "metadata": {},
   "outputs": [
    {
     "name": "stdout",
     "output_type": "stream",
     "text": [
      "Non-numeric columns: Index(['Airline', 'Origin_Airport', 'Destination_Airport', 'Airplane_Type'], dtype='object')\n"
     ]
    }
   ],
   "source": [
    "non_numeric_columns = df.select_dtypes(exclude=['number']).columns\n",
    "print(\"Non-numeric columns:\", non_numeric_columns)"
   ]
  },
  {
   "cell_type": "code",
   "execution_count": 15,
   "metadata": {},
   "outputs": [],
   "source": [
    "# List of column names you want to convert to numeric\n",
    "columns_to_convert = ['Airline', 'Origin_Airport', 'Destination_Airport', 'Airplane_Type']\n",
    "\n",
    "# Loop through the columns and convert them to numeric\n",
    "for column in columns_to_convert:\n",
    "    df[column] = pd.to_numeric(df[column], errors='coerce')"
   ]
  },
  {
   "cell_type": "code",
   "execution_count": 16,
   "metadata": {},
   "outputs": [
    {
     "name": "stdout",
     "output_type": "stream",
     "text": [
      "Rows with outliers:\n",
      "      Flight ID  Airline  Flight_Distance  Origin_Airport  \\\n",
      "1161    7675125      NaN              621             NaN   \n",
      "2570    2559421      NaN              662             NaN   \n",
      "780     2044957      NaN              819             NaN   \n",
      "2070    7145554      NaN              179             NaN   \n",
      "407     7938893      NaN              836             NaN   \n",
      "...         ...      ...              ...             ...   \n",
      "2676     192816      NaN              431             NaN   \n",
      "2424    9081743      NaN              554             NaN   \n",
      "1529    4660764      NaN              541             NaN   \n",
      "2686    9599975      NaN              426             NaN   \n",
      "767     9631593      NaN              366             NaN   \n",
      "\n",
      "      Destination_Airport  Scheduled_Departure_Time  Day_of_Week  Month  \\\n",
      "1161                  NaN                         7            1      3   \n",
      "2570                  NaN                        19            1      6   \n",
      "780                   NaN                         5            3      3   \n",
      "2070                  NaN                         4            6      6   \n",
      "407                   NaN                         8            3      8   \n",
      "...                   ...                       ...          ...    ...   \n",
      "2676                  NaN                         4            1      7   \n",
      "2424                  NaN                         5            6      1   \n",
      "1529                  NaN                        10            6      8   \n",
      "2686                  NaN                         3            3      3   \n",
      "767                   NaN                         5            6      5   \n",
      "\n",
      "      Airplane_Type  Weather_Score  Previous_Flight_Delay_Minutes  \\\n",
      "1161            NaN       0.121583                       154.0000   \n",
      "2570            NaN       0.627872                       115.3333   \n",
      "780             NaN       0.625160                         5.0000   \n",
      "2070            NaN       0.175268                         3.0000   \n",
      "407             NaN       0.708690                        79.0000   \n",
      "...             ...            ...                            ...   \n",
      "2676            NaN       0.266395                       112.0000   \n",
      "2424            NaN       0.659348                       143.1111   \n",
      "1529            NaN       0.070331                       167.3333   \n",
      "2686            NaN       0.408997                       151.0000   \n",
      "767             NaN       0.660424                       145.0000   \n",
      "\n",
      "      Airline_Rating  Passenger_Load  Flight_Cancelled  \n",
      "1161        3.392171        0.296377                 1  \n",
      "2570        3.977162        0.797282                 1  \n",
      "780         1.909815        0.734765                 0  \n",
      "2070        0.674782        0.667868                 1  \n",
      "407         3.038421        0.006170                 1  \n",
      "...              ...             ...               ...  \n",
      "2676        4.244523        0.269474                 1  \n",
      "2424        1.036524        0.520876                 1  \n",
      "1529        3.291533        0.924360                 1  \n",
      "2686        2.220642        0.761096                 1  \n",
      "767         3.827953        0.143561                 1  \n",
      "\n",
      "[61 rows x 14 columns]\n"
     ]
    },
    {
     "name": "stderr",
     "output_type": "stream",
     "text": [
      "C:\\Users\\DELL\\Anaconda3\\lib\\site-packages\\ipykernel_launcher.py:8: RuntimeWarning: invalid value encountered in greater\n",
      "  \n"
     ]
    }
   ],
   "source": [
    "# Specify the threshold for considering values as outliers (e.g., Z-score > 3 or < -3)\n",
    "z_threshold = 3\n",
    "\n",
    "# Calculate the Z-scores for each data point in the dataset\n",
    "z_scores = np.abs(stats.zscore(df))\n",
    "\n",
    "# Create a boolean mask to identify outliers\n",
    "outlier_mask = z_scores > z_threshold\n",
    "\n",
    "# Identify the rows and columns with outliers\n",
    "outlier_rows, outlier_columns = np.where(outlier_mask)\n",
    "\n",
    "# List the indices of rows containing outliers\n",
    "outlier_indices = list(set(outlier_rows))\n",
    "\n",
    "# Print the rows containing outliers\n",
    "print(\"Rows with outliers:\")\n",
    "print(df.iloc[outlier_indices])"
   ]
  },
  {
   "cell_type": "code",
   "execution_count": 19,
   "metadata": {},
   "outputs": [
    {
     "data": {
      "image/png": "[encoded data removed]",
      "text/plain": [
       "<Figure size 576x432 with 1 Axes>"
      ]
     },
     "metadata": {
      "needs_background": "light"
     },
     "output_type": "display_data"
    }
   ],
   "source": [
    "import seaborn as sns\n",
    "import matplotlib.pyplot as plt\n",
    "\n",
    "# Specify the column(s) you want to create boxplots for (replace 'column_name' with the actual column name)\n",
    "column_name = 'Flight_Distance'\n",
    "\n",
    "# Create a boxplot\n",
    "plt.figure(figsize=(8, 6))\n",
    "sns.boxplot(x=df[column_name])\n",
    "plt.title(f'Boxplot for {column_name}')\n",
    "plt.show()"
   ]
  },
  {
   "cell_type": "code",
   "execution_count": null,
   "metadata": {},
   "outputs": [],
   "source": []
  }
 ],
 "metadata": {
  "kernelspec": {
   "display_name": "Python 3",
   "language": "python",
   "name": "python3"
  },
  "language_info": {
   "codemirror_mode": {
    "name": "ipython",
    "version": 3
   },
   "file_extension": ".py",
   "mimetype": "text/x-python",
   "name": "python",
   "nbconvert_exporter": "python",
   "pygments_lexer": "ipython3",
   "version": "3.7.4"
  }
 },
 "nbformat": 4,
 "nbformat_minor": 2
}
